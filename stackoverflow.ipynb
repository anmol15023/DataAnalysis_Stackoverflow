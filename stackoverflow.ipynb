{
 "cells": [
  {
   "cell_type": "code",
   "execution_count": 2,
   "metadata": {},
   "outputs": [],
   "source": [
    "\n",
    "import pandas as pd\n",
    "df_users = pd.read_csv('users.csv')\n",
    "df_posts = pd.read_csv('post.csv')\n",
    "df_comments = pd.read_csv('comments.csv')\n",
    "#print(df_users.shape)   #50000,5\n",
    "#print(df_posts.shape)   #50000,13\n",
    "#df_comments.head()\n",
    "#print(df_users.columns)\n",
    "#print(df_posts.columns)\n",
    "#noofcomment=df_comments.query(\"userid==22656\")\n",
    "#noofcomment"
   ]
  },
  {
   "cell_type": "code",
   "execution_count": 20,
   "metadata": {},
   "outputs": [
    {
     "data": {
      "text/plain": [
       "'Jon Skeet'"
      ]
     },
     "execution_count": 20,
     "metadata": {},
     "output_type": "execute_result"
    }
   ],
   "source": [
    "df_users[\"reputation\"].max()\n",
    "max_rep_user=df_users.query(\"reputation==736381\")\n",
    "max_rep_user[\"displayname\"].unique()[0]"
   ]
  },
  {
   "cell_type": "code",
   "execution_count": 2,
   "metadata": {},
   "outputs": [
    {
     "name": "stdout",
     "output_type": "stream",
     "text": [
      "Empty DataFrame\n",
      "Columns: []\n",
      "Index: []\n",
      "   userid  reputation displayname           loc   age\n",
      "0  382275        2792       Steve  West Linn OR  48.0\n",
      "   userid  reputation displayname            loc  age\n",
      "1  382276          21       Yoshi  United States  NaN\n"
     ]
    },
    {
     "data": {
      "text/html": [
       "<div>\n",
       "<style scoped>\n",
       "    .dataframe tbody tr th:only-of-type {\n",
       "        vertical-align: middle;\n",
       "    }\n",
       "\n",
       "    .dataframe tbody tr th {\n",
       "        vertical-align: top;\n",
       "    }\n",
       "\n",
       "    .dataframe thead th {\n",
       "        text-align: right;\n",
       "    }\n",
       "</style>\n",
       "<table border=\"1\" class=\"dataframe\">\n",
       "  <thead>\n",
       "    <tr style=\"text-align: right;\">\n",
       "      <th></th>\n",
       "      <th>userid</th>\n",
       "      <th>reputation</th>\n",
       "      <th>displayname</th>\n",
       "      <th>loc</th>\n",
       "      <th>age</th>\n",
       "    </tr>\n",
       "  </thead>\n",
       "  <tbody>\n",
       "    <tr>\n",
       "      <th>0</th>\n",
       "      <td>382275</td>\n",
       "      <td>2792</td>\n",
       "      <td>Steve</td>\n",
       "      <td>West Linn OR</td>\n",
       "      <td>48.0</td>\n",
       "    </tr>\n",
       "    <tr>\n",
       "      <th>1</th>\n",
       "      <td>382276</td>\n",
       "      <td>21</td>\n",
       "      <td>Yoshi</td>\n",
       "      <td>United States</td>\n",
       "      <td>NaN</td>\n",
       "    </tr>\n",
       "  </tbody>\n",
       "</table>\n",
       "</div>"
      ],
      "text/plain": [
       "   userid  reputation displayname            loc   age\n",
       "0  382275        2792       Steve   West Linn OR  48.0\n",
       "1  382276          21       Yoshi  United States   NaN"
      ]
     },
     "execution_count": 2,
     "metadata": {},
     "output_type": "execute_result"
    }
   ],
   "source": [
    "df=pd.DataFrame()\n",
    "print(df)\n",
    "for i in [382275,382276]:\n",
    "    ss=df_users[df_users[\"userid\"]==i]\n",
    "    print(ss)\n",
    "    df=pd.concat([df,ss])\n",
    "df"
   ]
  },
  {
   "cell_type": "code",
   "execution_count": 3,
   "metadata": {},
   "outputs": [
    {
     "data": {
      "text/plain": [
       "Index(['id_p', 'post_type', 'creationdate', 'score', 'viewcount', 'userid',\n",
       "       'title', 'answercount', 'commentcount', 'Unnamed: 9', 'Unnamed: 10',\n",
       "       'Unnamed: 11', 'Unnamed: 12'],\n",
       "      dtype='object')"
      ]
     },
     "execution_count": 3,
     "metadata": {},
     "output_type": "execute_result"
    }
   ],
   "source": [
    "df_posts.columns"
   ]
  },
  {
   "cell_type": "code",
   "execution_count": 3,
   "metadata": {},
   "outputs": [
    {
     "data": {
      "text/html": [
       "<div>\n",
       "<style scoped>\n",
       "    .dataframe tbody tr th:only-of-type {\n",
       "        vertical-align: middle;\n",
       "    }\n",
       "\n",
       "    .dataframe tbody tr th {\n",
       "        vertical-align: top;\n",
       "    }\n",
       "\n",
       "    .dataframe thead th {\n",
       "        text-align: right;\n",
       "    }\n",
       "</style>\n",
       "<table border=\"1\" class=\"dataframe\">\n",
       "  <thead>\n",
       "    <tr style=\"text-align: right;\">\n",
       "      <th></th>\n",
       "      <th>userid</th>\n",
       "      <th>reputation</th>\n",
       "      <th>displayname</th>\n",
       "      <th>loc</th>\n",
       "      <th>age</th>\n",
       "    </tr>\n",
       "  </thead>\n",
       "  <tbody>\n",
       "    <tr>\n",
       "      <th>19452</th>\n",
       "      <td>22656</td>\n",
       "      <td>736381</td>\n",
       "      <td>Jon Skeet</td>\n",
       "      <td>Reading United Kingdom</td>\n",
       "      <td>38.0</td>\n",
       "    </tr>\n",
       "  </tbody>\n",
       "</table>\n",
       "</div>"
      ],
      "text/plain": [
       "       userid  reputation displayname                     loc   age\n",
       "19452   22656      736381   Jon Skeet  Reading United Kingdom  38.0"
      ]
     },
     "execution_count": 3,
     "metadata": {},
     "output_type": "execute_result"
    }
   ],
   "source": [
    "#Question A:Find the display name and no. of posts created by the \n",
    "#user who has got maximum reputation.\n",
    "\n",
    "\n",
    "df_users[\"reputation\"].max()\n",
    "\n",
    "\n",
    "max_rep=df_users.query('reputation==736381')\n",
    "#max_rep[\"displayname\"].unique()\n",
    "max_rep\n",
    "#max_rep_post=df_posts.query('userid==22656')\n",
    "#max_rep_post[\"id_p\"].nunique()\n",
    "#max_rep"
   ]
  },
  {
   "cell_type": "code",
   "execution_count": 5,
   "metadata": {},
   "outputs": [
    {
     "name": "stdout",
     "output_type": "stream",
     "text": [
      "name of person have maximum reputattion ['Jon Skeet']\n",
      "no. of post created by maximum reputation user 1\n"
     ]
    },
    {
     "data": {
      "text/html": [
       "<div>\n",
       "<style scoped>\n",
       "    .dataframe tbody tr th:only-of-type {\n",
       "        vertical-align: middle;\n",
       "    }\n",
       "\n",
       "    .dataframe tbody tr th {\n",
       "        vertical-align: top;\n",
       "    }\n",
       "\n",
       "    .dataframe thead th {\n",
       "        text-align: right;\n",
       "    }\n",
       "</style>\n",
       "<table border=\"1\" class=\"dataframe\">\n",
       "  <thead>\n",
       "    <tr style=\"text-align: right;\">\n",
       "      <th></th>\n",
       "      <th>userid</th>\n",
       "      <th>reputation</th>\n",
       "      <th>displayname</th>\n",
       "      <th>loc</th>\n",
       "      <th>age</th>\n",
       "      <th>id_p</th>\n",
       "      <th>post_type</th>\n",
       "      <th>creationdate</th>\n",
       "      <th>score</th>\n",
       "      <th>viewcount</th>\n",
       "      <th>title</th>\n",
       "      <th>answercount</th>\n",
       "      <th>commentcount</th>\n",
       "      <th>Unnamed: 9</th>\n",
       "      <th>Unnamed: 10</th>\n",
       "      <th>Unnamed: 11</th>\n",
       "      <th>Unnamed: 12</th>\n",
       "    </tr>\n",
       "  </thead>\n",
       "  <tbody>\n",
       "    <tr>\n",
       "      <th>49044</th>\n",
       "      <td>22656</td>\n",
       "      <td>736381</td>\n",
       "      <td>Jon Skeet</td>\n",
       "      <td>Reading United Kingdom</td>\n",
       "      <td>38.0</td>\n",
       "      <td>2097693</td>\n",
       "      <td>2</td>\n",
       "      <td>19-01-2010 22:33</td>\n",
       "      <td>4</td>\n",
       "      <td>NaN</td>\n",
       "      <td>NaN</td>\n",
       "      <td>NaN</td>\n",
       "      <td>NaN</td>\n",
       "      <td>NaN</td>\n",
       "      <td>NaN</td>\n",
       "      <td>NaN</td>\n",
       "      <td>NaN</td>\n",
       "    </tr>\n",
       "  </tbody>\n",
       "</table>\n",
       "</div>"
      ],
      "text/plain": [
       "       userid  reputation displayname                     loc   age     id_p  \\\n",
       "49044   22656      736381   Jon Skeet  Reading United Kingdom  38.0  2097693   \n",
       "\n",
       "       post_type      creationdate  score  viewcount title answercount  \\\n",
       "49044          2  19-01-2010 22:33      4        NaN   NaN         NaN   \n",
       "\n",
       "      commentcount Unnamed: 9 Unnamed: 10 Unnamed: 11  Unnamed: 12  \n",
       "49044          NaN        NaN         NaN         NaN          NaN  "
      ]
     },
     "execution_count": 5,
     "metadata": {},
     "output_type": "execute_result"
    }
   ],
   "source": [
    "#Question A:Find the display name and no. of posts created by the user who has got maximum reputation.\n",
    "\n",
    "# mergeing of csv file \n",
    "df_user_post=pd.merge(df_users,df_posts,on=\"userid\",how=\"inner\")\n",
    "df_user_post.columns\n",
    "\n",
    "# find the maximum reputation value\n",
    "df_user_post[\"reputation\"].max()\n",
    "\n",
    "# filter the records of maximum reputation user\n",
    "df_max_rep=df_user_post.query('reputation==736381')\n",
    "df_max_rep\n",
    "print(\"name of person have maximum reputattion\",df_max_rep[\"displayname\"].unique())\n",
    "print(\"no. of post created by maximum reputation user\",df_max_rep[\"id_p\"].nunique())\n",
    "df_max_rep"
   ]
  },
  {
   "cell_type": "code",
   "execution_count": 6,
   "metadata": {},
   "outputs": [
    {
     "name": "stdout",
     "output_type": "stream",
     "text": [
      "35.263352397712275\n"
     ]
    }
   ],
   "source": [
    "#Question:B:Find the average age of users on the Stack Overflow site.\n",
    "\n",
    "avg_age = df_users[\"age\"].mean()\n",
    "print(avg_age)  #35.263352397712275\n"
   ]
  },
  {
   "cell_type": "code",
   "execution_count": 7,
   "metadata": {},
   "outputs": [
    {
     "name": "stdout",
     "output_type": "stream",
     "text": [
      "01-08-2008 00:42\n",
      "name of user who has posted the oldest post on stackoverflow site ['Kevin Dente']\n"
     ]
    }
   ],
   "source": [
    "#Question C:Find the display name of user who posted the oldest post on Stack Overflow (in terms of date).\n",
    "\n",
    "oldest_post = df_user_post[\"creationdate\"].min()\n",
    "\n",
    "print(oldest_post)\n",
    "#filtered = df_user_post.query(['creationdate']=='01-08-2008 00:42')\n",
    "df_filtered = df_user_post[(df_user_post.creationdate=='01-08-2008 00:42')]\n",
    "df_filtered\n",
    "\n",
    "\n",
    "print(\"name of user who has posted the oldest post on stackoverflow site\",df_filtered['displayname'].unique())#display name :Chris Jester-Young is person who posted the oldest post on overflow."
   ]
  },
  {
   "cell_type": "code",
   "execution_count": 8,
   "metadata": {},
   "outputs": [
    {
     "name": "stdout",
     "output_type": "stream",
     "text": [
      "reputation    736381\n",
      "dtype: int64\n",
      "no.of comments 765\n"
     ]
    },
    {
     "data": {
      "text/plain": [
       "array(['Jon Skeet'], dtype=object)"
      ]
     },
     "execution_count": 8,
     "metadata": {},
     "output_type": "execute_result"
    }
   ],
   "source": [
    "#D\tFind the display name and no. of comments done by the user who has got maximum reputation.\n",
    "\n",
    "df=pd.merge(df_user_post,df_comments,on=\"userid\",how=\"inner\")\n",
    "df\n",
    "\n",
    "max_rep_user = df.loc[:,[\"reputation\"]]  \n",
    "print(max_rep_user.max())    #working- got list of reputation of all users\n",
    "\n",
    "\n",
    "max_rep=df.loc[df['reputation'] == 736381]  # got whole record of user with maximum reputation\n",
    "#max_rep.drop(['Unnamed: 0','Unnamed: 9','Unnamed: 10','Unnamed: 11','Unnamed: 12'],axis=1)\n",
    "print(\"no.of comments\",max_rep[\"id_c\"].nunique())# no. of comments posted by user\n",
    "max_rep[\"displayname\"].unique()\n",
    "#max_rep"
   ]
  },
  {
   "cell_type": "code",
   "execution_count": 9,
   "metadata": {},
   "outputs": [
    {
     "data": {
      "text/plain": [
       "'aku'"
      ]
     },
     "execution_count": 9,
     "metadata": {},
     "output_type": "execute_result"
    }
   ],
   "source": [
    "#E.\tFind the display name of user who has created maximum no. of posts on Stack Overflow.\n",
    "\n",
    "max_posts_user = df_user_post.groupby('displayname')['id_p'].nunique()\n",
    "max_posts_user\n",
    "max_posts_user=max_posts_user.sort_values(ascending=False)\n",
    "\n",
    "max_posts_user.index[0]  # i access first index of series \n",
    "#max_posts_user"
   ]
  },
  {
   "cell_type": "code",
   "execution_count": 10,
   "metadata": {},
   "outputs": [
    {
     "data": {
      "text/plain": [
       "array(['Shadow_x99'], dtype=object)"
      ]
     },
     "execution_count": 10,
     "metadata": {},
     "output_type": "execute_result"
    }
   ],
   "source": [
    "#F.\tFind the owner name and id of user whose post has got maximum no. of view counts so far.\n",
    "# Converting viewcount to a numerical data type.\n",
    " \n",
    "max_viewcount=df_user_post[\"viewcount\"]\n",
    "y=max_viewcount.max()\n",
    "y\n",
    "data7=df_user_post.query(\"viewcount==758492.0\")\n",
    "#data7[[\"displayname\",\"id_p\",\"userid\"]]\n",
    "\n",
    "\n",
    "data7[\"displayname\"].unique()"
   ]
  },
  {
   "cell_type": "code",
   "execution_count": 11,
   "metadata": {},
   "outputs": [
    {
     "ename": "NameError",
     "evalue": "name 'data5' is not defined",
     "output_type": "error",
     "traceback": [
      "\u001b[1;31m---------------------------------------------------------------------------\u001b[0m",
      "\u001b[1;31mNameError\u001b[0m                                 Traceback (most recent call last)",
      "\u001b[1;32m<ipython-input-11-6c609efb8f61>\u001b[0m in \u001b[0;36m<module>\u001b[1;34m\u001b[0m\n\u001b[0;32m      2\u001b[0m \u001b[1;31m# Converting viewcount to a numerical data type.\u001b[0m\u001b[1;33m\u001b[0m\u001b[1;33m\u001b[0m\u001b[1;33m\u001b[0m\u001b[0m\n\u001b[0;32m      3\u001b[0m \u001b[1;33m\u001b[0m\u001b[0m\n\u001b[1;32m----> 4\u001b[1;33m \u001b[0mmax_viewcount\u001b[0m\u001b[1;33m=\u001b[0m\u001b[0mdata5\u001b[0m\u001b[1;33m[\u001b[0m\u001b[1;34m\"viewcount\"\u001b[0m\u001b[1;33m]\u001b[0m\u001b[1;33m\u001b[0m\u001b[1;33m\u001b[0m\u001b[0m\n\u001b[0m\u001b[0;32m      5\u001b[0m \u001b[0my\u001b[0m\u001b[1;33m=\u001b[0m\u001b[0mmax_viewcount\u001b[0m\u001b[1;33m.\u001b[0m\u001b[0mmax\u001b[0m\u001b[1;33m(\u001b[0m\u001b[1;33m)\u001b[0m\u001b[1;33m\u001b[0m\u001b[1;33m\u001b[0m\u001b[0m\n\u001b[0;32m      6\u001b[0m \u001b[0mdata7\u001b[0m\u001b[1;33m=\u001b[0m\u001b[0mdata5\u001b[0m\u001b[1;33m.\u001b[0m\u001b[0mquery\u001b[0m\u001b[1;33m(\u001b[0m\u001b[1;34m\"viewcount==@y\"\u001b[0m\u001b[1;33m)\u001b[0m\u001b[1;33m\u001b[0m\u001b[1;33m\u001b[0m\u001b[0m\n",
      "\u001b[1;31mNameError\u001b[0m: name 'data5' is not defined"
     ]
    }
   ],
   "source": [
    "#F.\tFind the owner name and id of user whose post has got maximum no. of view counts so far.\n",
    "# Converting viewcount to a numerical data type.\n",
    "\n",
    "max_viewcount=data5[\"viewcount\"]\n",
    "y=max_viewcount.max()\n",
    "data7=data5.query(\"viewcount==@y\")\n",
    "data7[[\"displayname\",\"id\"]]\n",
    "\n",
    "\n",
    "\n",
    "\n",
    "'''\n",
    "df.viewcount = pd.to_numeric(df.viewcount, errors='coerce')\n",
    "view_count=df.groupby('id')['viewcount'].sum()  \n",
    "view_count\n",
    "view_count.sort_values(ascending=False)\n",
    "#result of viewcount\n",
    "# id        viewcount\n",
    "#42648    38319533.0\n",
    "#42466    12532909.0\n",
    "#53569     9669780.0\n",
    "#18082     8154757.0\n",
    "#7665      6167340.0\n",
    "max_view=df.loc[df['id'] == 42648]  #name:oded, id of post:42648, post is : best way to get identity of inserted row?\n",
    "\n",
    "max_view[['displayname','id','title']].head(1)\n",
    "\n",
    "\n",
    "'''\n"
   ]
  },
  {
   "cell_type": "code",
   "execution_count": null,
   "metadata": {},
   "outputs": [],
   "source": [
    "#G.\tFind the owner name and id of user whose post has got maximum no. of comment counts so far.\n",
    "# Converting commentcount to a numerical data type.\n",
    "df_user_post.commentcount = pd.to_numeric(df_user_post.commentcount, errors='coerce')\n",
    "a=df_user_post.commentcount.max()\n",
    "a\n",
    "max_comm=df_user_post.query(\"commentcount==@a\")\n",
    "max_comm[[\"displayname\",\"userid\",\"id_p\"]]"
   ]
  },
  {
   "cell_type": "code",
   "execution_count": null,
   "metadata": {},
   "outputs": [],
   "source": [
    "#H.\tFind the location which has maximum no of Stack Overflow users.\n",
    "\n",
    "#count no. of users in each location\n",
    "\n",
    "\n",
    "#df_users.groupby(\"loc\")[\"dispalyname\"].count()\n",
    "\n",
    "\n",
    "#max_usesr=df_users.groupby('loc')['userid'].nunique().sort_values(ascending=False)\n",
    "#max_usesr\n",
    "\n",
    "# or \n",
    "\n",
    "\n",
    "m8=df_user_post[\"loc\"].value_counts().head(8)\n",
    "m8\n",
    "\n"
   ]
  },
  {
   "cell_type": "code",
   "execution_count": null,
   "metadata": {},
   "outputs": [],
   "source": [
    "import matplotlib.pyplot as plt\n",
    "plt.bar(m8.index,m8.values)\n",
    "plt.xticks(rotation=90)\n",
    "plt.show()"
   ]
  },
  {
   "cell_type": "code",
   "execution_count": null,
   "metadata": {},
   "outputs": [],
   "source": [
    "plt.pie(m8.values,labels=m8.index,startangle=40,explode=(0,0,0,0.2,0,0,0,0),shadow=True,autopct='%.2f%%')\n",
    "plt.show()"
   ]
  },
  {
   "cell_type": "code",
   "execution_count": null,
   "metadata": {},
   "outputs": [],
   "source": [
    "plt.scatter(m8.index,m8.values)\n",
    "plt.plot(m8.index,m8.values,'r+')\n",
    "\n",
    "plt.xticks(rotation=90)\n",
    "\n",
    "plt.show()"
   ]
  },
  {
   "cell_type": "code",
   "execution_count": null,
   "metadata": {},
   "outputs": [],
   "source": [
    "plt.pie()"
   ]
  },
  {
   "cell_type": "code",
   "execution_count": null,
   "metadata": {},
   "outputs": [],
   "source": [
    "#I.\tFind the total no. of answers, posts, comments created by Indian users.\n",
    "\n",
    "bb=df_user_post[df_user_post['loc'].str.contains(\"India\") ==True]\n",
    "bb\n",
    "\n",
    "df_indian_users = bb[bb['loc'] != 'Indianapolis IN']\n",
    "df_indian_users\n",
    "\n",
    "\n",
    "df_indian_users[\"answercount\"]=pd.to_numeric(df_indian_users[\"answercount\"],errors='coerce').sum()\n",
    "\n",
    "print(\"answercount\",df_indian_users[\"answercount\"].sum())\n",
    "\n",
    "print(\"no. of post\",df_indian_users[\"id_p\"].nunique())\n",
    "\n",
    "\n",
    "df_india=pd.merge(df_indian_users,df,on=\"userid\",how=\"inner\")\n",
    "\n",
    "print(\"no. of comments\",df_india[\"id_c\"].nunique())\n",
    "\n"
   ]
  },
  {
   "cell_type": "code",
   "execution_count": null,
   "metadata": {},
   "outputs": [],
   "source": [
    "\n",
    "\n",
    "#print(df_indian_users['loc'])\n",
    "#df_indian_users.to_csv('F:/ml/refined_indian_users.csv')\n",
    "\n",
    "# I.Find the total no. of answers, posts, comments created by Indian users.\n",
    "ind = pd.read_csv('F:/ml/refined_indian_users.csv')\n",
    "ans_count=ind['answercount'].count()\n",
    "print(\"Answer count of indian user:\",ans_count)  #219\n",
    "\n",
    "comment_count=ind['commentcount'].count()\n",
    "print(\"comment count of indian user:\",comment_count)  #602\n",
    "\n",
    "post_count=ind['id'].count()\n",
    "print(\"Post count of indian user:\",post_count)  #1935"
   ]
  },
  {
   "cell_type": "code",
   "execution_count": null,
   "metadata": {},
   "outputs": [],
   "source": [
    "\n",
    "#H.\tFind the location which has maximum no of Stack Overflow users.\n",
    "\n",
    "\n",
    "# replacing all cities of USA with US\n",
    "df.loc[df['loc'].isin(['New York NY', 'San Diego CA', 'Mexico City Mexico', 'Boston MA', 'Albany NY', 'New Rochelle NY', 'Piedmont CA', 'Chicago IL', 'USA', 'NY', 'Silicon Valley', 'San Francisco CA', 'Los Angeles', 'United States', 'California' ])]='US'\n",
    "#df.loc[df['loc'].isin(['Mumbai India', 'Gurgaon India', 'Banglore India'])]=='INDIA'\n",
    "#or\n",
    "\n",
    "# another way of replacing cities\n",
    "#print(df['loc'].replace(['New York NY', 'San Diego CA', 'Mexico City Mexico', 'Boston MA', 'Albany NY', 'New Rochelle NY', 'Piedmont CA', 'Chicago IL', 'USA', 'NY', 'Silicon Valley', 'San Francisco CA', 'Los Angeles', 'United States', 'California'],'US').replace(['Toronto Canada', 'Ottawa Canada'],'Canada').replace(['Mumbai India', 'Gurgaon India', 'Banglore India'],'India')) \n",
    "#df['loc']=df['loc'].replace(['New York NY', 'San Diego CA', 'Mexico City Mexico', 'Boston MA', 'Albany NY', 'New Rochelle NY', 'Piedmont CA', 'Chicago IL', 'USA', 'NY', 'Silicon Valley', 'San Francisco CA', 'Los Angeles', 'United States', 'California'],'US').replace(['Toronto Canada', 'Ottawa Canada'],'Canada').replace(['Mumbai India', 'Gurgaon India', 'Banglore India'],'India').replace(['Cambridge United Kingdom','London United Kingdom ','United Kingdom','Chester United Kingdom','Forest of Dean United Kingdom','Reading United Kingdom','Cardiff United Kingdom ','London United Kingdom','Cardiff United Kingdom','Southampton United Kingdom'],'UK')\n",
    "#df.to_csv('corrected_locations.csv')\n",
    "\n",
    "max_usesr=df_user_post.groupby('loc')['userid'].count().sort_values(ascending=False)\n",
    "max_usesr"
   ]
  },
  {
   "cell_type": "code",
   "execution_count": null,
   "metadata": {},
   "outputs": [],
   "source": [
    "# lets join comment.csv file also. But before joining open comments.csv file and rename userid to owneruserid and id to comments_id just for convience\n",
    "master_frame = pd.merge(master_frame_pre, df_comments, on='userid', how='inner')\n",
    "#print(master_frame.shape)   # (190118, 19)\n",
    "\n",
    "#master_frame.to_csv(\"F:/ml/final_file.csv\")\n",
    "\n",
    "#now open final_file.csv file and delete columns with a name of unnamed.\n",
    "\n",
    "df = pd.read_csv(\"F:/ml/final_file.csv\",encoding=\"ISO-8859-1\")\n",
    "df.head(2)"
   ]
  },
  {
   "cell_type": "code",
   "execution_count": null,
   "metadata": {},
   "outputs": [],
   "source": []
  },
  {
   "cell_type": "code",
   "execution_count": null,
   "metadata": {},
   "outputs": [],
   "source": []
  },
  {
   "cell_type": "code",
   "execution_count": null,
   "metadata": {},
   "outputs": [],
   "source": []
  },
  {
   "cell_type": "code",
   "execution_count": null,
   "metadata": {},
   "outputs": [],
   "source": []
  },
  {
   "cell_type": "code",
   "execution_count": null,
   "metadata": {},
   "outputs": [],
   "source": []
  },
  {
   "cell_type": "code",
   "execution_count": null,
   "metadata": {},
   "outputs": [],
   "source": []
  },
  {
   "cell_type": "code",
   "execution_count": null,
   "metadata": {},
   "outputs": [],
   "source": []
  },
  {
   "cell_type": "code",
   "execution_count": null,
   "metadata": {},
   "outputs": [],
   "source": []
  },
  {
   "cell_type": "code",
   "execution_count": null,
   "metadata": {},
   "outputs": [],
   "source": []
  }
 ],
 "metadata": {
  "kernelspec": {
   "display_name": "Python 3",
   "language": "python",
   "name": "python3"
  },
  "language_info": {
   "codemirror_mode": {
    "name": "ipython",
    "version": 3
   },
   "file_extension": ".py",
   "mimetype": "text/x-python",
   "name": "python",
   "nbconvert_exporter": "python",
   "pygments_lexer": "ipython3",
   "version": "3.8.5"
  }
 },
 "nbformat": 4,
 "nbformat_minor": 2
}
